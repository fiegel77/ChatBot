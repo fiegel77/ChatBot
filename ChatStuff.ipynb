{
 "cells": [
  {
   "cell_type": "code",
   "execution_count": 92,
   "metadata": {},
   "outputs": [],
   "source": [
    "import pandas as pd\n",
    "import re"
   ]
  },
  {
   "cell_type": "code",
   "execution_count": 101,
   "metadata": {},
   "outputs": [
    {
     "data": {
      "text/html": [
       "<div>\n",
       "<style scoped>\n",
       "    .dataframe tbody tr th:only-of-type {\n",
       "        vertical-align: middle;\n",
       "    }\n",
       "\n",
       "    .dataframe tbody tr th {\n",
       "        vertical-align: top;\n",
       "    }\n",
       "\n",
       "    .dataframe thead th {\n",
       "        text-align: right;\n",
       "    }\n",
       "</style>\n",
       "<table border=\"1\" class=\"dataframe\">\n",
       "  <thead>\n",
       "    <tr style=\"text-align: right;\">\n",
       "      <th></th>\n",
       "      <th>Dialogue</th>\n",
       "      <th>Character</th>\n",
       "    </tr>\n",
       "  </thead>\n",
       "  <tbody>\n",
       "    <tr>\n",
       "      <th>0</th>\n",
       "      <td>INT. COMEDY CLUB – NIGHT</td>\n",
       "      <td>SIDE CHARACTER</td>\n",
       "    </tr>\n",
       "    <tr>\n",
       "      <th>1</th>\n",
       "      <td>(Jerry is on stage, performing.)</td>\n",
       "      <td>JERRY</td>\n",
       "    </tr>\n",
       "    <tr>\n",
       "      <th>2</th>\n",
       "      <td>JERRY: Do you know what this is all about? Do ...</td>\n",
       "      <td>JERRY</td>\n",
       "    </tr>\n",
       "    <tr>\n",
       "      <th>3</th>\n",
       "      <td>INT. PETE'S LUNCHEONETTE – DAY</td>\n",
       "      <td>SIDE CHARACTER</td>\n",
       "    </tr>\n",
       "    <tr>\n",
       "      <th>4</th>\n",
       "      <td>(Jerry and George sit at a table, having coffee.)</td>\n",
       "      <td>JERRY</td>\n",
       "    </tr>\n",
       "    <tr>\n",
       "      <th>...</th>\n",
       "      <td>...</td>\n",
       "      <td>...</td>\n",
       "    </tr>\n",
       "    <tr>\n",
       "      <th>64906</th>\n",
       "      <td>JERRY: Grand theft auto - don't steal any of m...</td>\n",
       "      <td>JERRY</td>\n",
       "    </tr>\n",
       "    <tr>\n",
       "      <th>64907</th>\n",
       "      <td>PRISONER 3: You suck - I'm gonna cut you.</td>\n",
       "      <td>SIDE CHARACTER</td>\n",
       "    </tr>\n",
       "    <tr>\n",
       "      <th>64908</th>\n",
       "      <td>JERRY: Hey, I don't come down to where you wor...</td>\n",
       "      <td>JERRY</td>\n",
       "    </tr>\n",
       "    <tr>\n",
       "      <th>64909</th>\n",
       "      <td>GUARD: Alright, Seinfeld, that's it. Let's go....</td>\n",
       "      <td>SIDE CHARACTER</td>\n",
       "    </tr>\n",
       "    <tr>\n",
       "      <th>64910</th>\n",
       "      <td>JERRY: Alright, hey, you've been great! See yo...</td>\n",
       "      <td>JERRY</td>\n",
       "    </tr>\n",
       "  </tbody>\n",
       "</table>\n",
       "<p>64911 rows × 2 columns</p>\n",
       "</div>"
      ],
      "text/plain": [
       "                                                Dialogue       Character\n",
       "0                               INT. COMEDY CLUB – NIGHT  SIDE CHARACTER\n",
       "1                       (Jerry is on stage, performing.)           JERRY\n",
       "2      JERRY: Do you know what this is all about? Do ...           JERRY\n",
       "3                         INT. PETE'S LUNCHEONETTE – DAY  SIDE CHARACTER\n",
       "4      (Jerry and George sit at a table, having coffee.)           JERRY\n",
       "...                                                  ...             ...\n",
       "64906  JERRY: Grand theft auto - don't steal any of m...           JERRY\n",
       "64907          PRISONER 3: You suck - I'm gonna cut you.  SIDE CHARACTER\n",
       "64908  JERRY: Hey, I don't come down to where you wor...           JERRY\n",
       "64909  GUARD: Alright, Seinfeld, that's it. Let's go....  SIDE CHARACTER\n",
       "64910  JERRY: Alright, hey, you've been great! See yo...           JERRY\n",
       "\n",
       "[64911 rows x 2 columns]"
      ]
     },
     "execution_count": 101,
     "metadata": {},
     "output_type": "execute_result"
    }
   ],
   "source": [
    "seinfeld = pd.read_csv('corpus.txt', delimiter='\\t', header=None)\n",
    "seinfeld.columns = ['Dialogue']\n",
    "\n",
    "def character(x):\n",
    "    reg = re.findall(r'^([^:]+)', x)\n",
    "    chars = ['JERRY', 'GEORGE', 'ELAINE', 'KRAMER']\n",
    "    for char in chars:\n",
    "        if char.lower() in reg[0].lower():\n",
    "            return char\n",
    "        elif (char in \"KRAMER\") and (char.lower() not in reg[0].lower()):\n",
    "            return 'SIDE CHARACTER'\n",
    "\n",
    "\n",
    "\n",
    "\n",
    "seinfeld['Character'] = seinfeld[\"Dialogue\"].apply(character)\n",
    "seinfeld\n"
   ]
  },
  {
   "attachments": {},
   "cell_type": "markdown",
   "metadata": {},
   "source": [
    "\n",
    "TO DO:\n",
    "- Have three columns:\n",
    "    - Character !!DONE!!\n",
    "    - Dialogue !!DONE!!\n",
    "    - Responding Character\n",
    "    - Responding Dialogue\n",
    "- Remove blocking notes\n",
    "- Figure out how to separate between scenes (add a separater row) "
   ]
  },
  {
   "cell_type": "code",
   "execution_count": 74,
   "metadata": {},
   "outputs": [
    {
     "data": {
      "text/plain": [
       "array(['SIDE CHARACTER', 'JERRY'], dtype=object)"
      ]
     },
     "execution_count": 74,
     "metadata": {},
     "output_type": "execute_result"
    }
   ],
   "source": []
  },
  {
   "cell_type": "code",
   "execution_count": null,
   "metadata": {},
   "outputs": [],
   "source": []
  }
 ],
 "metadata": {
  "kernelspec": {
   "display_name": "base",
   "language": "python",
   "name": "python3"
  },
  "language_info": {
   "codemirror_mode": {
    "name": "ipython",
    "version": 3
   },
   "file_extension": ".py",
   "mimetype": "text/x-python",
   "name": "python",
   "nbconvert_exporter": "python",
   "pygments_lexer": "ipython3",
   "version": "3.9.13"
  },
  "orig_nbformat": 4
 },
 "nbformat": 4,
 "nbformat_minor": 2
}
